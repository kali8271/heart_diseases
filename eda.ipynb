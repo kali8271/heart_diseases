{
 "cells": [
  {
   "cell_type": "code",
   "execution_count": 15,
   "id": "c3a066fb",
   "metadata": {},
   "outputs": [],
   "source": [
    "import pandas as pd\n",
    "import numpy as np\n",
    "import matplotlib.pyplot as plt\n",
    "import seaborn as sns\n",
    "\n",
    "from sklearn.model_selection import train_test_split, GridSearchCV\n",
    "from sklearn.preprocessing import StandardScaler\n",
    "from sklearn.metrics import accuracy_score, precision_score, recall_score, f1_score, roc_auc_score, classification_report\n",
    "from sklearn.linear_model import LogisticRegression\n",
    "from sklearn.ensemble import RandomForestClassifier,GradientBoostingClassifier\n",
    "from sklearn.svm import SVC\n",
    "from sklearn.neighbors import KNeighborsClassifier\n",
    "from xgboost import XGBClassifier\n",
    "import joblib"
   ]
  },
  {
   "cell_type": "code",
   "execution_count": 2,
   "id": "99f54ba1",
   "metadata": {},
   "outputs": [],
   "source": [
    "data = pd.read_csv('Cardiovascular_Disease_Dataset.csv')"
   ]
  },
  {
   "cell_type": "code",
   "execution_count": 3,
   "id": "7170b2f4",
   "metadata": {},
   "outputs": [
    {
     "name": "stdout",
     "output_type": "stream",
     "text": [
      "<class 'pandas.core.frame.DataFrame'>\n",
      "RangeIndex: 1000 entries, 0 to 999\n",
      "Data columns (total 14 columns):\n",
      " #   Column             Non-Null Count  Dtype  \n",
      "---  ------             --------------  -----  \n",
      " 0   patientid          1000 non-null   int64  \n",
      " 1   age                1000 non-null   int64  \n",
      " 2   gender             1000 non-null   int64  \n",
      " 3   chestpain          1000 non-null   int64  \n",
      " 4   restingBP          1000 non-null   int64  \n",
      " 5   serumcholestrol    1000 non-null   int64  \n",
      " 6   fastingbloodsugar  1000 non-null   int64  \n",
      " 7   restingrelectro    1000 non-null   int64  \n",
      " 8   maxheartrate       1000 non-null   int64  \n",
      " 9   exerciseangia      1000 non-null   int64  \n",
      " 10  oldpeak            1000 non-null   float64\n",
      " 11  slope              1000 non-null   int64  \n",
      " 12  noofmajorvessels   1000 non-null   int64  \n",
      " 13  target             1000 non-null   int64  \n",
      "dtypes: float64(1), int64(13)\n",
      "memory usage: 109.5 KB\n",
      "None\n",
      "          patientid         age       gender    chestpain    restingBP  \\\n",
      "count  1.000000e+03  1000.00000  1000.000000  1000.000000  1000.000000   \n",
      "mean   5.048704e+06    49.24200     0.765000     0.980000   151.747000   \n",
      "std    2.895905e+06    17.86473     0.424211     0.953157    29.965228   \n",
      "min    1.033680e+05    20.00000     0.000000     0.000000    94.000000   \n",
      "25%    2.536440e+06    34.00000     1.000000     0.000000   129.000000   \n",
      "50%    4.952508e+06    49.00000     1.000000     1.000000   147.000000   \n",
      "75%    7.681877e+06    64.25000     1.000000     2.000000   181.000000   \n",
      "max    9.990855e+06    80.00000     1.000000     3.000000   200.000000   \n",
      "\n",
      "       serumcholestrol  fastingbloodsugar  restingrelectro  maxheartrate  \\\n",
      "count      1000.000000        1000.000000      1000.000000   1000.000000   \n",
      "mean        311.447000           0.296000         0.748000    145.477000   \n",
      "std         132.443801           0.456719         0.770123     34.190268   \n",
      "min           0.000000           0.000000         0.000000     71.000000   \n",
      "25%         235.750000           0.000000         0.000000    119.750000   \n",
      "50%         318.000000           0.000000         1.000000    146.000000   \n",
      "75%         404.250000           1.000000         1.000000    175.000000   \n",
      "max         602.000000           1.000000         2.000000    202.000000   \n",
      "\n",
      "       exerciseangia      oldpeak        slope  noofmajorvessels       target  \n",
      "count    1000.000000  1000.000000  1000.000000       1000.000000  1000.000000  \n",
      "mean        0.498000     2.707700     1.540000          1.222000     0.580000  \n",
      "std         0.500246     1.720753     1.003697          0.977585     0.493805  \n",
      "min         0.000000     0.000000     0.000000          0.000000     0.000000  \n",
      "25%         0.000000     1.300000     1.000000          0.000000     0.000000  \n",
      "50%         0.000000     2.400000     2.000000          1.000000     1.000000  \n",
      "75%         1.000000     4.100000     2.000000          2.000000     1.000000  \n",
      "max         1.000000     6.200000     3.000000          3.000000     1.000000  \n"
     ]
    }
   ],
   "source": [
    "# Display basic statistics and info about the dataset\n",
    "print(data.info())\n",
    "print(data.describe())"
   ]
  },
  {
   "cell_type": "code",
   "execution_count": 4,
   "id": "a56fdbaf",
   "metadata": {},
   "outputs": [
    {
     "name": "stdout",
     "output_type": "stream",
     "text": [
      "patientid            0\n",
      "age                  0\n",
      "gender               0\n",
      "chestpain            0\n",
      "restingBP            0\n",
      "serumcholestrol      0\n",
      "fastingbloodsugar    0\n",
      "restingrelectro      0\n",
      "maxheartrate         0\n",
      "exerciseangia        0\n",
      "oldpeak              0\n",
      "slope                0\n",
      "noofmajorvessels     0\n",
      "target               0\n",
      "dtype: int64\n"
     ]
    }
   ],
   "source": [
    "# Check for missing values in the dataset\n",
    "print(data.isnull().sum())"
   ]
  },
  {
   "cell_type": "code",
   "execution_count": 6,
   "id": "7fb66477",
   "metadata": {},
   "outputs": [],
   "source": [
    "data = data.drop(\"patientid\", axis=1)\n"
   ]
  },
  {
   "cell_type": "code",
   "execution_count": 8,
   "id": "0e2cde1a",
   "metadata": {},
   "outputs": [
    {
     "name": "stdout",
     "output_type": "stream",
     "text": [
      "target\n",
      "1    580\n",
      "0    420\n",
      "Name: count, dtype: int64\n"
     ]
    }
   ],
   "source": [
    "print(data[\"target\"].value_counts())\n"
   ]
  },
  {
   "cell_type": "code",
   "execution_count": 9,
   "id": "c869a31e",
   "metadata": {},
   "outputs": [],
   "source": [
    "X = data.drop(\"target\", axis=1)\n",
    "y = data[\"target\"]"
   ]
  },
  {
   "cell_type": "code",
   "execution_count": 10,
   "id": "c1869fc2",
   "metadata": {},
   "outputs": [],
   "source": [
    "scaler = StandardScaler()\n",
    "X_scaled = scaler.fit_transform(X)"
   ]
  },
  {
   "cell_type": "code",
   "execution_count": 11,
   "id": "932b1437",
   "metadata": {},
   "outputs": [],
   "source": [
    "X_train, X_test, y_train, y_test = train_test_split(X_scaled, y, test_size=0.2, random_state=42)\n"
   ]
  },
  {
   "cell_type": "code",
   "execution_count": 17,
   "id": "2e22b872",
   "metadata": {},
   "outputs": [],
   "source": [
    "models = {\n",
    "    \"Logistic Regression\": LogisticRegression(max_iter=1000),\n",
    "    \"Random Forest\": RandomForestClassifier(n_estimators=200, random_state=42),\n",
    "    \"SVM\": SVC(probability=True, random_state=42),\n",
    "    \"KNN\": KNeighborsClassifier(n_neighbors=5),\n",
    "    \"Gradient Boosting\": GradientBoostingClassifier(),\n",
    "    \"XGBoost\": XGBClassifier(eval_metric=\"logloss\", random_state=42)\n",
    "}"
   ]
  },
  {
   "cell_type": "code",
   "execution_count": 19,
   "id": "a544addc",
   "metadata": {},
   "outputs": [
    {
     "name": "stdout",
     "output_type": "stream",
     "text": [
      "\n",
      "🔹 Logistic Regression Results\n",
      "              precision    recall  f1-score   support\n",
      "\n",
      "           0       0.96      0.95      0.96        83\n",
      "           1       0.97      0.97      0.97       117\n",
      "\n",
      "    accuracy                           0.96       200\n",
      "   macro avg       0.96      0.96      0.96       200\n",
      "weighted avg       0.96      0.96      0.96       200\n",
      "\n",
      "ROC-AUC: 0.9963\n",
      "\n",
      "🔹 Random Forest Results\n",
      "              precision    recall  f1-score   support\n",
      "\n",
      "           0       1.00      0.98      0.99        83\n",
      "           1       0.98      1.00      0.99       117\n",
      "\n",
      "    accuracy                           0.99       200\n",
      "   macro avg       0.99      0.99      0.99       200\n",
      "weighted avg       0.99      0.99      0.99       200\n",
      "\n",
      "ROC-AUC: 0.9996\n",
      "\n",
      "🔹 SVM Results\n",
      "              precision    recall  f1-score   support\n",
      "\n",
      "           0       0.98      0.98      0.98        83\n",
      "           1       0.98      0.98      0.98       117\n",
      "\n",
      "    accuracy                           0.98       200\n",
      "   macro avg       0.98      0.98      0.98       200\n",
      "weighted avg       0.98      0.98      0.98       200\n",
      "\n",
      "ROC-AUC: 0.9970\n",
      "\n",
      "🔹 KNN Results\n",
      "              precision    recall  f1-score   support\n",
      "\n",
      "           0       0.91      0.94      0.92        83\n",
      "           1       0.96      0.93      0.94       117\n",
      "\n",
      "    accuracy                           0.94       200\n",
      "   macro avg       0.93      0.94      0.93       200\n",
      "weighted avg       0.94      0.94      0.94       200\n",
      "\n",
      "ROC-AUC: 0.9820\n",
      "\n",
      "🔹 Gradient Boosting Results\n",
      "              precision    recall  f1-score   support\n",
      "\n",
      "           0       0.95      0.98      0.96        83\n",
      "           1       0.98      0.97      0.97       117\n",
      "\n",
      "    accuracy                           0.97       200\n",
      "   macro avg       0.97      0.97      0.97       200\n",
      "weighted avg       0.97      0.97      0.97       200\n",
      "\n",
      "ROC-AUC: 0.9981\n",
      "\n",
      "🔹 XGBoost Results\n",
      "              precision    recall  f1-score   support\n",
      "\n",
      "           0       0.96      0.95      0.96        83\n",
      "           1       0.97      0.97      0.97       117\n",
      "\n",
      "    accuracy                           0.96       200\n",
      "   macro avg       0.96      0.96      0.96       200\n",
      "weighted avg       0.96      0.96      0.96       200\n",
      "\n",
      "ROC-AUC: 0.9979\n"
     ]
    }
   ],
   "source": [
    "results = []\n",
    "\n",
    "for name, model in models.items():\n",
    "    model.fit(X_train, y_train)\n",
    "    y_pred = model.predict(X_test)\n",
    "    y_prob = model.predict_proba(X_test)[:,1] if hasattr(model, \"predict_proba\") else y_pred\n",
    "    \n",
    "    acc = accuracy_score(y_test, y_pred)\n",
    "    prec = precision_score(y_test, y_pred)\n",
    "    rec = recall_score(y_test, y_pred)\n",
    "    f1 = f1_score(y_test, y_pred)\n",
    "    roc = roc_auc_score(y_test, y_prob)\n",
    "    \n",
    "    results.append([name, acc, prec, rec, f1, roc])\n",
    "    print(f\"\\n🔹 {name} Results\")\n",
    "    print(classification_report(y_test, y_pred))\n",
    "    print(f\"ROC-AUC: {roc:.4f}\")"
   ]
  },
  {
   "cell_type": "code",
   "execution_count": 20,
   "id": "88aeb602",
   "metadata": {},
   "outputs": [
    {
     "name": "stdout",
     "output_type": "stream",
     "text": [
      "\n",
      "📊 Model Comparison:\n",
      "                 Model  Accuracy  Precision    Recall  F1-Score   ROC-AUC\n",
      "0  Logistic Regression     0.965   0.966102  0.974359  0.970213  0.996293\n",
      "1        Random Forest     0.990   0.983193  1.000000  0.991525  0.999588\n",
      "2                  SVM     0.980   0.982906  0.982906  0.982906  0.997014\n",
      "3                  KNN     0.935   0.956140  0.931624  0.943723  0.981979\n",
      "4    Gradient Boosting     0.970   0.982609  0.965812  0.974138  0.998146\n",
      "5              XGBoost     0.965   0.966102  0.974359  0.970213  0.997940\n"
     ]
    }
   ],
   "source": [
    "results_df = pd.DataFrame(results, columns=[\"Model\", \"Accuracy\", \"Precision\", \"Recall\", \"F1-Score\", \"ROC-AUC\"])\n",
    "print(\"\\n📊 Model Comparison:\")\n",
    "print(results_df)"
   ]
  },
  {
   "cell_type": "code",
   "execution_count": 21,
   "id": "991f368a",
   "metadata": {},
   "outputs": [
    {
     "name": "stdout",
     "output_type": "stream",
     "text": [
      "🏆 Best Model:\n",
      "Model        Random Forest\n",
      "Accuracy              0.99\n",
      "Precision         0.983193\n",
      "Recall                 1.0\n",
      "F1-Score          0.991525\n",
      "ROC-AUC           0.999588\n",
      "Name: 1, dtype: object\n"
     ]
    }
   ],
   "source": [
    "# Select the best model based on the highest ROC-AUC score\n",
    "best_model_row = results_df.loc[results_df[\"ROC-AUC\"].idxmax()]\n",
    "print(\"🏆 Best Model:\")\n",
    "print(best_model_row)"
   ]
  },
  {
   "cell_type": "code",
   "execution_count": 22,
   "id": "4fc2b52c",
   "metadata": {},
   "outputs": [
    {
     "name": "stdout",
     "output_type": "stream",
     "text": [
      "Model saved as best_model.pkl\n"
     ]
    }
   ],
   "source": [
    "joblib.dump(model, 'best_model.pkl')\n",
    "print(\"Model saved as best_model.pkl\")"
   ]
  }
 ],
 "metadata": {
  "kernelspec": {
   "display_name": "Python 3",
   "language": "python",
   "name": "python3"
  },
  "language_info": {
   "codemirror_mode": {
    "name": "ipython",
    "version": 3
   },
   "file_extension": ".py",
   "mimetype": "text/x-python",
   "name": "python",
   "nbconvert_exporter": "python",
   "pygments_lexer": "ipython3",
   "version": "3.10.0"
  }
 },
 "nbformat": 4,
 "nbformat_minor": 5
}
